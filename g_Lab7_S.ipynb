{
 "cells": [
  {
   "cell_type": "markdown",
   "metadata": {},
   "source": [
    "# Lab 7: A Different Game Plan - SVM & Naive Bayes\n",
    "\n",
    "**Student Name:** [Your Name]\n",
    "**Roll Number:** [Your Roll Number]"
   ]
  },
  {
   "cell_type": "markdown",
   "metadata": {},
   "source": [
    "### 📖 Story Point\n",
    "Our Decision Tree model works, but a good data scientist never settles for the first model that works. We need to explore other modeling strategies. Support Vector Machines (SVM) work by finding the best possible 'line' to separate classes, while Naive Bayes uses probability to make predictions. Let's bring these new players into our team and see how they perform on our 'High-Scoring' prediction task."
   ]
  },
  {
   "cell_type": "markdown",
   "metadata": {},
   "source": [
    "### 🎯 Objective\n",
    "Apply and compare the performance of Support Vector Machines (SVM) and Naive Bayes classifiers against our baseline Decision Tree model."
   ]
  },
  {
   "cell_type": "markdown",
   "metadata": {},
   "source": [
    "### ✅ In-Class Tasks"
   ]
  },
  {
   "cell_type": "markdown",
   "metadata": {},
   "source": [
    "#### Task 1: Setup\n",
    "Load `simulated_match_data.csv`, create the `is_high_scoring` target variable, define features `X` and target `y`, and split the data into training and testing sets (`random_state=42`). This is a recap of Lab 4."
   ]
  },
  {
   "cell_type": "code",
   "execution_count": null,
   "metadata": {},
   "outputs": [],
   "source": []
  },
  {
   "cell_type": "markdown",
   "metadata": {},
   "source": [
    "#### Task 2: Train and Evaluate a Support Vector Machine (SVM)\n",
    "Import `SVC` from `sklearn.svm`. As SVMs are sensitive to feature scales, first scale your features `X_train` and `X_test` using `StandardScaler`. Then, train an `SVC` model on the scaled training data and evaluate its accuracy on the scaled testing data."
   ]
  },
  {
   "cell_type": "code",
   "execution_count": null,
   "metadata": {},
   "outputs": [],
   "source": []
  },
  {
   "cell_type": "markdown",
   "metadata": {},
   "source": [
    "#### Task 3: Train and Evaluate a Naive Bayes Classifier\n",
    "Import `GaussianNB` from `sklearn.naive_bayes`. Train a Naive Bayes model on the original (unscaled) training data and evaluate its accuracy on the test set. (Naive Bayes does not require feature scaling)."
   ]
  },
  {
   "cell_type": "code",
   "execution_count": null,
   "metadata": {},
   "outputs": [],
   "source": []
  },
  {
   "cell_type": "markdown",
   "metadata": {},
   "source": [
    "#### Task 4: Compare All Models\n",
    "Create a simple summary. Print the accuracy scores for the Decision Tree (from Lab 4), the SVM, and the Naive Bayes model side-by-side to see which performed best."
   ]
  },
  {
   "cell_type": "code",
   "execution_count": null,
   "metadata": {},
   "outputs": [],
   "source": []
  },
  {
   "cell_type": "markdown",
   "metadata": {},
   "source": [
    "### deliverables\n",
    "A notebook with trained SVM and Naive Bayes models, and a final summary table or printout comparing the performance of all three classifiers."
   ]
  },
  {
   "cell_type": "markdown",
   "metadata": {},
   "source": [
    "---"
   ]
  },
  {
   "cell_type": "markdown",
   "metadata": {},
   "source": [
    "### 🏡 Home Task Extension\n",
    "SVMs have important hyperparameters that control their behavior. The two most common are the `kernel` and `C` (the regularization parameter).\n",
    "\n",
    "**Your Task:**\n",
    "1. Train two new `SVC` models on the scaled data:\n",
    "   - One with a `kernel='linear'`.\n",
    "   - One with the default `kernel='rbf'` but with `C=10`.\n",
    "2. Calculate the accuracy for both new models.\n",
    "3. Create a final comparison table showing the F1-Scores for all your models: Decision Tree, Naive Bayes, SVM (default), SVM (linear), and SVM (rbf, C=10)."
   ]
  },
  {
   "cell_type": "code",
   "execution_count": null,
   "metadata": {},
   "outputs": [],
   "source": []
  }
 ],
 "metadata": {
  "kernelspec": {
   "display_name": "Python 3",
   "language": "python",
   "name": "python3"
  }
 },
 "nbformat": 4,
 "nbformat_minor": 4
}